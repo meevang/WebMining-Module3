{
 "cells": [
  {
   "cell_type": "markdown",
   "metadata": {},
   "source": [
    "# Web Mining & Applied Natural Language Processing\n",
    "\n",
    "## Mee Vang\n",
    "\n",
    "Create and activate a Python virtual environment. \n",
    "Before starting the project, try all these imports FIRST\n",
    "Address any errors you get running this code cell \n",
    "by installing the necessary packages into your active Python environment.\n",
    "Try to resolve issues using your materials and the web.\n",
    "If that doesn't work, ask for help in the discussion forums.\n",
    "You can't complete the exercises until you import these - start early! \n",
    "We also import Counter and randint (included in the Python Standard Library).\n"
   ]
  },
  {
   "cell_type": "code",
   "execution_count": null,
   "metadata": {},
   "outputs": [],
   "source": []
  }
 ],
 "metadata": {
  "kernelspec": {
   "display_name": "Python 3",
   "language": "python",
   "name": "python3"
  },
  "language_info": {
   "name": "python",
   "version": "3.12.2"
  }
 },
 "nbformat": 4,
 "nbformat_minor": 2
}
